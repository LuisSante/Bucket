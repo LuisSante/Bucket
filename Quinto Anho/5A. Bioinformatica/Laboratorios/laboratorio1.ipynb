{
 "cells": [
  {
   "cell_type": "code",
   "execution_count": 15,
   "metadata": {},
   "outputs": [
    {
     "name": "stdout",
     "output_type": "stream",
     "text": [
      "DNA String:  >seq1\n",
      "AGCTTTTCATTCTGACTGCAACGGGCAATATGTCTCTGTGTGGATTAAAAAAAGAGTGTCTGATAGCAGCTTCTGAACTG\n",
      "GTTACCTGCCGTGAGTAAATTAAAATTTTATTGACTTAGGTCACTAAATACTTTAACCAATATAGGCATAGCGCACAGAC\n",
      "AGATAAAAATTACAGAGTACACAACATCCATGAAACGCATTAGCACCACCATTACCACCACCATCACCATTACCACAGGT\n",
      "AACGGTGCGGGCTGACGCGTACAGGAAACACAGAAAAAAGCCCGCACCTGACAGTGCGGGCTTTTTTTTTCGACCAAAGG\n",
      "TAACGAGGTAACAACCATGCGAGTGTTGAAGTTCGGCGGTACATCAGTGGCAAATGCAGAACGTTTTCTGCGTGTTGCCG\n",
      "ATATTCTGGAAAGCAATGCCAGGCAGGGGCAGGTGGCCACCGTCCTCTCTGCCCCCGCCAAAATCACCAACCACCTGGTG\n",
      "GCGATGATTGAAAAAACCATTAGCGGCCAGGATGCTTTACCCAATATCAGCGATGCCGAACGTATTTTTGCCGAACTTTT\n",
      "GACGGGACTCGCCGCCGCCCAGCCGGGGTTCCCGCTGGCGCAATTGAAAACTTTCGTCGATCAGGAATTTGCCCAAATAA\n",
      "AACATGTCCTGCATGGCATTAGTTTGTTGGGGCAGTGCCCGGATAGCATCAACGCTGCGCTGATTTGCCGTGGCGAGAAA\n",
      "ATGTCGATCGCCATTATGGCCGGCGTATTAGAAGCGCGCGGTCACAACGTTACTGTTATCGATCCGGTCGAAAAACTGCT\n",
      "GGCAGTGGGGCATTACCTCGAATCTACCGTCGATATTGCTGAGTCCACCCGCCGTATTGCGGCAAGCCGCATTCCGGCTG\n",
      "ATCACATGGTGCTGATGGCAGGTTTCACCGCCGGTAATGAAAAAGGCGAACTGGTGGTGCTTGGACGCAACGGTTCCGAC\n",
      "TACTCTGCTGCGGTGCTGGCTGCCTGTTTAC\n",
      "Count of C:  251\n",
      "Count of G:  250\n",
      "El contenido de GC es: 49.65312190287413 %\n"
     ]
    }
   ],
   "source": [
    "def calcular_contenido_gc(archivo):\n",
    "    try:\n",
    "        # Leer el archivo de texto\n",
    "        with open(archivo, 'r') as f:\n",
    "            secuencia = f.read().strip()\n",
    "\n",
    "        print(\"DNA String: \", secuencia)\n",
    "\n",
    "        # Calcular el contenido de GC\n",
    "        total_bases = len(secuencia)\n",
    "\n",
    "        print( \"Count of C: \", secuencia.count(\"C\"))\n",
    "        print(\"Count of G: \", secuencia.count(\"G\"))\n",
    "\n",
    "        gc_count = secuencia.count('G') + secuencia.count('C')\n",
    "        gc_content = (gc_count / total_bases) * 100\n",
    "\n",
    "        return gc_content\n",
    "\n",
    "    except FileNotFoundError:\n",
    "        print(\"El archivo no existe.\")\n",
    "    except IOError:\n",
    "        print(\"Error al leer el archivo.\")\n",
    "\n",
    "# Ejemplo de uso\n",
    "archivo = \"C:/Users/Usuario/Documents/Universidad/5A. Bioinformatica/Laboratorios/seq1.txt\" \n",
    "contenido_gc = calcular_contenido_gc(archivo)\n",
    "print(\"El contenido de GC es:\", contenido_gc , \"%\")\n"
   ]
  }
 ],
 "metadata": {
  "kernelspec": {
   "display_name": "Python 3",
   "language": "python",
   "name": "python3"
  },
  "language_info": {
   "codemirror_mode": {
    "name": "ipython",
    "version": 3
   },
   "file_extension": ".py",
   "mimetype": "text/x-python",
   "name": "python",
   "nbconvert_exporter": "python",
   "pygments_lexer": "ipython3",
   "version": "3.10.9"
  },
  "orig_nbformat": 4
 },
 "nbformat": 4,
 "nbformat_minor": 2
}
