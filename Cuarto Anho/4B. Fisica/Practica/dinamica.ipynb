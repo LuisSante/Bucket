{
 "cells": [
  {
   "cell_type": "markdown",
   "metadata": {},
   "source": [
    "# Practica 1"
   ]
  },
  {
   "cell_type": "code",
   "execution_count": 1,
   "metadata": {},
   "outputs": [],
   "source": [
    "def primera_ecuacion():\n",
    "    option_ecuacion = int(input(\"1 calcular position \\n 2 calcular velocidad \\n 3 calcular tiempo\"))\n",
    "\n",
    "    if(option_ecuacion == 1):\n",
    "        v = int(input(\"input velocidad\"))\n",
    "        t = int(input(\"input tiempo\"))\n",
    "        if(t >=0 and v>=0):\n",
    "            print(\"calcular la posicion\")\n",
    "            pos = v*t\n",
    "            print(pos, \"m\")\n",
    "\n",
    "    elif(option_ecuacion == 2 ):\n",
    "        t = int(input(\"input tiempo\"))\n",
    "        x = int(input(\"input position\"))\n",
    "        if(t > 0 and x>=0):\n",
    "            print(\"calcular la velocidad\")\n",
    "            vel = x / t\n",
    "            print(vel, \"m/s\")\n",
    "    \n",
    "    elif(option_ecuacion == 3):\n",
    "        x = int(input(\"input position\"))\n",
    "        v = int(input(\"input velocidad\"))\n",
    "        if(x >= 0 and v > 0):\n",
    "            print(\"calcular tiempo\")\n",
    "            time = x / v\n",
    "            print(time, \"s\")\n",
    "        \n",
    "    else:\n",
    "        print(\"error\")"
   ]
  },
  {
   "cell_type": "code",
   "execution_count": 2,
   "metadata": {},
   "outputs": [],
   "source": [
    "def segunda_ecuacion():\n",
    "    v = int(input(\"input velocidad\"))\n",
    "    t = int(input(\"input tiempo\"))\n",
    "    a = int(input(\"input aceleracion\"))\n",
    "\n",
    "    if(t >=0 and v>=0 and a >=0):\n",
    "        x = v*t + (a*(t**2))/2\n",
    "        print(x, \"m\")\n",
    "\n",
    "    elif(t >=0 and v>=0 and a <=0):\n",
    "        x = v*t - (abs(a)*(t**2))/2\n",
    "        print(x)\n",
    "    else:\n",
    "        print(\"error\")"
   ]
  },
  {
   "cell_type": "code",
   "execution_count": 3,
   "metadata": {},
   "outputs": [],
   "source": [
    "def tercera_ecuacion():\n",
    "    v = int(input(\"input velocidad\"))\n",
    "    t = int(input(\"input tiempo\"))\n",
    "    a = int(input(\"input aceleracion\"))\n",
    "    \n",
    "    if(t >=0 and v>=0 and a >=0):\n",
    "        vf = v*t + a*t\n",
    "        print(vf, \"m/s\")\n",
    "    elif(t >=0 and v>=0 and a <=0):\n",
    "        vf = v*t - abs(a)*t\n",
    "        print(vf, \"m/s\")\n",
    "    else:\n",
    "        print(\"error\")"
   ]
  },
  {
   "cell_type": "code",
   "execution_count": 4,
   "metadata": {},
   "outputs": [
    {
     "name": "stdout",
     "output_type": "stream",
     "text": [
      "calcular la velocidad\n",
      "1.25 m/s\n"
     ]
    }
   ],
   "source": [
    "option = int(input(\"input option in range 1 - 3\"))\n",
    "if(option == 1):\n",
    "    primera_ecuacion()\n",
    "elif(option == 2): \n",
    "    segunda_ecuacion()\n",
    "elif(option == 3):\n",
    "    tercera_ecuacion()"
   ]
  }
 ],
 "metadata": {
  "kernelspec": {
   "display_name": "Python 3 (ipykernel)",
   "language": "python",
   "name": "python3"
  },
  "language_info": {
   "codemirror_mode": {
    "name": "ipython",
    "version": 3
   },
   "file_extension": ".py",
   "mimetype": "text/x-python",
   "name": "python",
   "nbconvert_exporter": "python",
   "pygments_lexer": "ipython3",
   "version": "3.10.4"
  },
  "vscode": {
   "interpreter": {
    "hash": "916dbcbb3f70747c44a77c7bcd40155683ae19c65e1c03b4aa3499c5328201f1"
   }
  }
 },
 "nbformat": 4,
 "nbformat_minor": 2
}
