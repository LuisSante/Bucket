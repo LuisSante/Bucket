{
 "cells": [
  {
   "cell_type": "markdown",
   "metadata": {},
   "source": [
    "# Practica 1"
   ]
  },
  {
   "cell_type": "code",
   "execution_count": 18,
   "metadata": {},
   "outputs": [],
   "source": [
    "def primera_ecuacion():\n",
    "    option_ecuacion = int(input(\"1 calcular position \\n 2 calcular velocidad \\n 3 calcular tiempo\"))\n",
    "    v = int(input(\"input velocidad\"))\n",
    "    t = int(input(\"input tiempo\"))\n",
    "    x = int(input(\"input position\"))\n",
    "\n",
    "    if(option_ecuacion == 1 and t >=0 and v>=0):\n",
    "        print(\"calcular la posicion\")\n",
    "        pos = v*t\n",
    "        print(pos, \"m\")\n",
    "\n",
    "    elif(option_ecuacion == 2 and t > 0 and x>=0):\n",
    "        print(\"calcular la velocidad\")\n",
    "        vel = x / t\n",
    "        print(vel, \"m/s\")\n",
    "    \n",
    "    elif(option_ecuacion == 3 and x >= 0 and v > 0):\n",
    "        print(\"calcular tiempo\")\n",
    "        time = x / v\n",
    "        print(time, \"s\")\n",
    "        \n",
    "    else:\n",
    "        print(\"error\")"
   ]
  },
  {
   "cell_type": "code",
   "execution_count": 19,
   "metadata": {},
   "outputs": [],
   "source": [
    "def segunda_ecuacion():\n",
    "    v = int(input(\"input velocidad\"))\n",
    "    t = int(input(\"input tiempo\"))\n",
    "    a = int(input(\"input aceleracion\"))\n",
    "\n",
    "    if(t >=0 and v>=0 and a >=0):\n",
    "        x = v*t + (a*(t**2))/2\n",
    "        print(x, \"m\")\n",
    "\n",
    "    elif(t >=0 and v>=0 and a <=0):\n",
    "        x = v*t - (abs(a)*(t**2))/2\n",
    "        print(x)\n",
    "    else:\n",
    "        print(\"error\")"
   ]
  },
  {
   "cell_type": "code",
   "execution_count": 20,
   "metadata": {},
   "outputs": [],
   "source": [
    "def tercera_ecuacion():\n",
    "    v = int(input(\"input velocidad\"))\n",
    "    t = int(input(\"input tiempo\"))\n",
    "    a = int(input(\"input aceleracion\"))\n",
    "    \n",
    "    if(t >=0 and v>=0 and a >=0):\n",
    "        vf = v*t + a*t\n",
    "        print(vf, \"m/s\")\n",
    "    elif(t >=0 and v>=0 and a <=0):\n",
    "        vf = v*t - abs(a)*t\n",
    "        print(vf, \"m/s\")\n",
    "    else:\n",
    "        print(\"error\")"
   ]
  },
  {
   "cell_type": "code",
   "execution_count": 21,
   "metadata": {},
   "outputs": [
    {
     "ename": "ValueError",
     "evalue": "invalid literal for int() with base 10: 'asd'",
     "output_type": "error",
     "traceback": [
      "\u001b[0;31m---------------------------------------------------------------------------\u001b[0m",
      "\u001b[0;31mValueError\u001b[0m                                Traceback (most recent call last)",
      "Cell \u001b[0;32mIn [21], line 3\u001b[0m\n\u001b[1;32m      1\u001b[0m option \u001b[38;5;241m=\u001b[39m \u001b[38;5;28mint\u001b[39m(\u001b[38;5;28minput\u001b[39m(\u001b[38;5;124m\"\u001b[39m\u001b[38;5;124minput option in range 1 - 3\u001b[39m\u001b[38;5;124m\"\u001b[39m))\n\u001b[1;32m      2\u001b[0m \u001b[38;5;28;01mif\u001b[39;00m(option \u001b[38;5;241m==\u001b[39m \u001b[38;5;241m1\u001b[39m):\n\u001b[0;32m----> 3\u001b[0m     \u001b[43mprimera_ecuacion\u001b[49m\u001b[43m(\u001b[49m\u001b[43m)\u001b[49m\n\u001b[1;32m      4\u001b[0m \u001b[38;5;28;01melif\u001b[39;00m(option \u001b[38;5;241m==\u001b[39m \u001b[38;5;241m2\u001b[39m): \n\u001b[1;32m      5\u001b[0m     segunda_ecuacion()\n",
      "Cell \u001b[0;32mIn [18], line 3\u001b[0m, in \u001b[0;36mprimera_ecuacion\u001b[0;34m()\u001b[0m\n\u001b[1;32m      1\u001b[0m \u001b[38;5;28;01mdef\u001b[39;00m \u001b[38;5;21mprimera_ecuacion\u001b[39m():\n\u001b[1;32m      2\u001b[0m     v \u001b[38;5;241m=\u001b[39m \u001b[38;5;28mint\u001b[39m(\u001b[38;5;28minput\u001b[39m(\u001b[38;5;124m\"\u001b[39m\u001b[38;5;124minput velocidad\u001b[39m\u001b[38;5;124m\"\u001b[39m))\n\u001b[0;32m----> 3\u001b[0m     t \u001b[38;5;241m=\u001b[39m \u001b[38;5;28;43mint\u001b[39;49m\u001b[43m(\u001b[49m\u001b[38;5;28;43minput\u001b[39;49m\u001b[43m(\u001b[49m\u001b[38;5;124;43m\"\u001b[39;49m\u001b[38;5;124;43minput tiempo\u001b[39;49m\u001b[38;5;124;43m\"\u001b[39;49m\u001b[43m)\u001b[49m\u001b[43m)\u001b[49m\n\u001b[1;32m      4\u001b[0m     x \u001b[38;5;241m=\u001b[39m \u001b[38;5;28mint\u001b[39m(\u001b[38;5;28minput\u001b[39m(\u001b[38;5;124m\"\u001b[39m\u001b[38;5;124minput position\u001b[39m\u001b[38;5;124m\"\u001b[39m))\n\u001b[1;32m      5\u001b[0m     option_ecuacion \u001b[38;5;241m=\u001b[39m \u001b[38;5;28mint\u001b[39m(\u001b[38;5;28minput\u001b[39m(\u001b[38;5;124m\"\u001b[39m\u001b[38;5;124m1 calcular position \u001b[39m\u001b[38;5;130;01m\\n\u001b[39;00m\u001b[38;5;124m 2 calcular velocidad \u001b[39m\u001b[38;5;130;01m\\n\u001b[39;00m\u001b[38;5;124m 3 calcular tiempo\u001b[39m\u001b[38;5;124m\"\u001b[39m))\n",
      "\u001b[0;31mValueError\u001b[0m: invalid literal for int() with base 10: 'asd'"
     ]
    }
   ],
   "source": [
    "option = int(input(\"input option in range 1 - 3\"))\n",
    "if(option == 1):\n",
    "    primera_ecuacion()\n",
    "elif(option == 2): \n",
    "    segunda_ecuacion()\n",
    "elif(option == 3):\n",
    "    tercera_ecuacion()"
   ]
  }
 ],
 "metadata": {
  "kernelspec": {
   "display_name": "Python 3 (ipykernel)",
   "language": "python",
   "name": "python3"
  },
  "language_info": {
   "codemirror_mode": {
    "name": "ipython",
    "version": 3
   },
   "file_extension": ".py",
   "mimetype": "text/x-python",
   "name": "python",
   "nbconvert_exporter": "python",
   "pygments_lexer": "ipython3",
   "version": "3.10.4"
  },
  "vscode": {
   "interpreter": {
    "hash": "916dbcbb3f70747c44a77c7bcd40155683ae19c65e1c03b4aa3499c5328201f1"
   }
  }
 },
 "nbformat": 4,
 "nbformat_minor": 2
}
