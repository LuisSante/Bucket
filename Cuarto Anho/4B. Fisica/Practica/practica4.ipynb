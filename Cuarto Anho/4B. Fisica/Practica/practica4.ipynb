{
 "cells": [
  {
   "cell_type": "code",
   "execution_count": 17,
   "metadata": {},
   "outputs": [],
   "source": [
    "from sympy import *\n",
    "import matplotlib.pyplot as plt\n",
    "import matplotlib\n",
    "import math"
   ]
  },
  {
   "cell_type": "code",
   "execution_count": 18,
   "metadata": {},
   "outputs": [
    {
     "name": "stdout",
     "output_type": "stream",
     "text": [
      "masa:  1000\n",
      "radio:  55\n",
      "2.26668760330579e-11\n"
     ]
    }
   ],
   "source": [
    "def gravedad(m,r):\n",
    "    g = 6.85673 * pow(10,-11)\n",
    "\n",
    "    a = Symbol('a')\n",
    "    ec = Eq(g*(m/pow(r,2)),a)\n",
    "    ac = solve(ec,a)[0]\n",
    "\n",
    "    return ac\n",
    "\n",
    "m = int(input(\"masa: \"))\n",
    "r = int(input(\"radio: \"))\n",
    "\n",
    "print(\"masa: \",m)\n",
    "print('radio: ',r)\n",
    "\n",
    "g = gravedad(m,r)\n",
    "print(g)"
   ]
  },
  {
   "cell_type": "code",
   "execution_count": 19,
   "metadata": {},
   "outputs": [
    {
     "name": "stdout",
     "output_type": "stream",
     "text": [
      "gravedad del planeta:  10\n",
      "radio:  40\n",
      "distancia:  123\n",
      "4.73818698093197e+19\n"
     ]
    }
   ],
   "source": [
    "def densidad(gp,r,d):\n",
    "    g = 6.673 ** (-11)\n",
    "    pi = 3.1416\n",
    "    a = Symbol(\"a\")\n",
    "    ec = Eq((pow(d,2)*gp)/g*(4/3)*pi*pow(r,3),a)\n",
    "    densid = solve(ec,a)[0]\n",
    "\n",
    "    return densid\n",
    "\n",
    "gp = int(input(\"gravedad del planeta\"))\n",
    "r = int(input(\"radio\"))\n",
    "d = int(input(\"distancia\"))\n",
    "\n",
    "print('gravedad del planeta: ', gp)\n",
    "print('radio: ', r)\n",
    "print('distancia: ',d)\n",
    "\n",
    "d = densidad(gp,r,d)\n",
    "print(d)"
   ]
  },
  {
   "cell_type": "code",
   "execution_count": 20,
   "metadata": {},
   "outputs": [
    {
     "name": "stdout",
     "output_type": "stream",
     "text": [
      "movimiento angular del planeta:  10\n",
      "masa:  123456\n",
      "terrestres:  765\n",
      "0.0309826982892691\n"
     ]
    }
   ],
   "source": [
    "def segunda_ley(l,m,t):\n",
    "\n",
    "    a = Symbol('a')\n",
    "    ec = Eq(l/(2*m)*t,a)\n",
    "    segunda = solve(ec,a)[0]\n",
    "\n",
    "    return segunda\n",
    "\n",
    "l = int(input(\"movimiento angular del planeta\"))\n",
    "m = int(input(\"masa solar\"))\n",
    "t = int(input(\"terrestres\"))\n",
    "\n",
    "print('movimiento angular del planeta: ',l)\n",
    "print('masa: ',m)\n",
    "print('terrestres: ', t)\n",
    "\n",
    "s = segunda_ley(l,m,t)\n",
    "print(s)"
   ]
  },
  {
   "cell_type": "code",
   "execution_count": 21,
   "metadata": {},
   "outputs": [
    {
     "name": "stdout",
     "output_type": "stream",
     "text": [
      "masa:  3454354354\n",
      "radio:  1100\n",
      "3.18600178952005e-05\n"
     ]
    }
   ],
   "source": [
    "def tercera_ley(m,r):\n",
    "    g = 6.673 * pow(10,-11)\n",
    "    k = (4*(pi**2) / m)*g\n",
    "\n",
    "    tercera = math.sqrt(k*pow(r,3)) \n",
    "\n",
    "    return tercera\n",
    "\n",
    "m = int(input(\"masa: \"))\n",
    "r = int(input(\"radio: \"))\n",
    "\n",
    "print('masa: ',m)\n",
    "print('radio: ',r)\n",
    "\n",
    "t = tercera_ley(m,r)\n",
    "print(t)"
   ]
  }
 ],
 "metadata": {
  "kernelspec": {
   "display_name": "Python 3 (ipykernel)",
   "language": "python",
   "name": "python3"
  },
  "language_info": {
   "codemirror_mode": {
    "name": "ipython",
    "version": 3
   },
   "file_extension": ".py",
   "mimetype": "text/x-python",
   "name": "python",
   "nbconvert_exporter": "python",
   "pygments_lexer": "ipython3",
   "version": "3.10.6"
  },
  "vscode": {
   "interpreter": {
    "hash": "916dbcbb3f70747c44a77c7bcd40155683ae19c65e1c03b4aa3499c5328201f1"
   }
  }
 },
 "nbformat": 4,
 "nbformat_minor": 2
}
